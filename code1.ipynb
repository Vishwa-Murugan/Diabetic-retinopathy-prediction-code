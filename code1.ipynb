{
 "cells": [
  {
   "cell_type": "code",
   "execution_count": 1,
   "metadata": {},
   "outputs": [
    {
     "name": "stdout",
     "output_type": "stream",
     "text": [
      "Found 35126 images belonging to 5 classes.\n",
      "Training Xception Model...\n"
     ]
    },
    {
     "name": "stderr",
     "output_type": "stream",
     "text": [
      "c:\\Users\\Vishwa Murugan\\AppData\\Local\\Programs\\Python\\Python312\\Lib\\site-packages\\keras\\src\\trainers\\data_adapters\\py_dataset_adapter.py:121: UserWarning: Your `PyDataset` class should call `super().__init__(**kwargs)` in its constructor. `**kwargs` can include `workers`, `use_multiprocessing`, `max_queue_size`. Do not pass these arguments to `fit()`, as they will be ignored.\n",
      "  self._warn_if_super_not_called()\n"
     ]
    },
    {
     "name": "stdout",
     "output_type": "stream",
     "text": [
      "Epoch 1/20\n",
      "\u001b[1m1098/1098\u001b[0m \u001b[32m━━━━━━━━━━━━━━━━━━━━\u001b[0m\u001b[37m\u001b[0m \u001b[1m7979s\u001b[0m 7s/step - accuracy: 0.7521 - loss: 0.7598\n",
      "Epoch 2/20\n"
     ]
    },
    {
     "name": "stderr",
     "output_type": "stream",
     "text": [
      "c:\\Users\\Vishwa Murugan\\AppData\\Local\\Programs\\Python\\Python312\\Lib\\site-packages\\keras\\src\\callbacks\\model_checkpoint.py:206: UserWarning: Can save best model only with val_accuracy available, skipping.\n",
      "  self._save_model(epoch=epoch, batch=None, logs=logs)\n",
      "c:\\Users\\Vishwa Murugan\\AppData\\Local\\Programs\\Python\\Python312\\Lib\\site-packages\\keras\\src\\callbacks\\early_stopping.py:155: UserWarning: Early stopping conditioned on metric `val_loss` which is not available. Available metrics are: accuracy,loss\n",
      "  current = self.get_monitor_value(logs)\n"
     ]
    },
    {
     "name": "stdout",
     "output_type": "stream",
     "text": [
      "\u001b[1m1098/1098\u001b[0m \u001b[32m━━━━━━━━━━━━━━━━━━━━\u001b[0m\u001b[37m\u001b[0m \u001b[1m7465s\u001b[0m 7s/step - accuracy: 0.7952 - loss: 0.6170\n",
      "Epoch 3/20\n",
      "\u001b[1m1098/1098\u001b[0m \u001b[32m━━━━━━━━━━━━━━━━━━━━\u001b[0m\u001b[37m\u001b[0m \u001b[1m8982s\u001b[0m 8s/step - accuracy: 0.8093 - loss: 0.5714\n",
      "Epoch 4/20\n",
      "\u001b[1m1098/1098\u001b[0m \u001b[32m━━━━━━━━━━━━━━━━━━━━\u001b[0m\u001b[37m\u001b[0m \u001b[1m11103s\u001b[0m 10s/step - accuracy: 0.8211 - loss: 0.5360\n",
      "Epoch 5/20\n",
      "\u001b[1m1098/1098\u001b[0m \u001b[32m━━━━━━━━━━━━━━━━━━━━\u001b[0m\u001b[37m\u001b[0m \u001b[1m8510s\u001b[0m 8s/step - accuracy: 0.8278 - loss: 0.5021\n",
      "Epoch 6/20\n",
      "\u001b[1m1098/1098\u001b[0m \u001b[32m━━━━━━━━━━━━━━━━━━━━\u001b[0m\u001b[37m\u001b[0m \u001b[1m7099s\u001b[0m 6s/step - accuracy: 0.8388 - loss: 0.4692\n",
      "Epoch 7/20\n",
      "\u001b[1m1098/1098\u001b[0m \u001b[32m━━━━━━━━━━━━━━━━━━━━\u001b[0m\u001b[37m\u001b[0m \u001b[1m7097s\u001b[0m 6s/step - accuracy: 0.8450 - loss: 0.4422\n",
      "Epoch 8/20\n",
      "\u001b[1m1098/1098\u001b[0m \u001b[32m━━━━━━━━━━━━━━━━━━━━\u001b[0m\u001b[37m\u001b[0m \u001b[1m7094s\u001b[0m 6s/step - accuracy: 0.8607 - loss: 0.3982\n",
      "Epoch 9/20\n",
      "\u001b[1m1098/1098\u001b[0m \u001b[32m━━━━━━━━━━━━━━━━━━━━\u001b[0m\u001b[37m\u001b[0m \u001b[1m7099s\u001b[0m 6s/step - accuracy: 0.8729 - loss: 0.3606\n",
      "Epoch 10/20\n",
      "\u001b[1m1098/1098\u001b[0m \u001b[32m━━━━━━━━━━━━━━━━━━━━\u001b[0m\u001b[37m\u001b[0m \u001b[1m7101s\u001b[0m 6s/step - accuracy: 0.8835 - loss: 0.3222\n",
      "Epoch 11/20\n",
      "\u001b[1m1098/1098\u001b[0m \u001b[32m━━━━━━━━━━━━━━━━━━━━\u001b[0m\u001b[37m\u001b[0m \u001b[1m7102s\u001b[0m 6s/step - accuracy: 0.8970 - loss: 0.2867\n",
      "Epoch 12/20\n",
      "\u001b[1m1098/1098\u001b[0m \u001b[32m━━━━━━━━━━━━━━━━━━━━\u001b[0m\u001b[37m\u001b[0m \u001b[1m7347s\u001b[0m 7s/step - accuracy: 0.9073 - loss: 0.2579\n",
      "Epoch 13/20\n",
      "\u001b[1m1098/1098\u001b[0m \u001b[32m━━━━━━━━━━━━━━━━━━━━\u001b[0m\u001b[37m\u001b[0m \u001b[1m8257s\u001b[0m 8s/step - accuracy: 0.9175 - loss: 0.2251\n",
      "Epoch 14/20\n",
      "\u001b[1m1098/1098\u001b[0m \u001b[32m━━━━━━━━━━━━━━━━━━━━\u001b[0m\u001b[37m\u001b[0m \u001b[1m7073s\u001b[0m 6s/step - accuracy: 0.9265 - loss: 0.2037\n",
      "Epoch 15/20\n",
      "\u001b[1m1098/1098\u001b[0m \u001b[32m━━━━━━━━━━━━━━━━━━━━\u001b[0m\u001b[37m\u001b[0m \u001b[1m7073s\u001b[0m 6s/step - accuracy: 0.9350 - loss: 0.1828\n",
      "Epoch 16/20\n",
      "\u001b[1m1098/1098\u001b[0m \u001b[32m━━━━━━━━━━━━━━━━━━━━\u001b[0m\u001b[37m\u001b[0m \u001b[1m7142s\u001b[0m 7s/step - accuracy: 0.9366 - loss: 0.1725\n",
      "Epoch 17/20\n",
      "\u001b[1m1098/1098\u001b[0m \u001b[32m━━━━━━━━━━━━━━━━━━━━\u001b[0m\u001b[37m\u001b[0m \u001b[1m7075s\u001b[0m 6s/step - accuracy: 0.9439 - loss: 0.1571\n",
      "Epoch 18/20\n",
      "\u001b[1m1098/1098\u001b[0m \u001b[32m━━━━━━━━━━━━━━━━━━━━\u001b[0m\u001b[37m\u001b[0m \u001b[1m7056s\u001b[0m 6s/step - accuracy: 0.9513 - loss: 0.1388\n",
      "Epoch 19/20\n",
      "\u001b[1m1098/1098\u001b[0m \u001b[32m━━━━━━━━━━━━━━━━━━━━\u001b[0m\u001b[37m\u001b[0m \u001b[1m7065s\u001b[0m 6s/step - accuracy: 0.9566 - loss: 0.1259\n",
      "Epoch 20/20\n",
      "\u001b[1m1098/1098\u001b[0m \u001b[32m━━━━━━━━━━━━━━━━━━━━\u001b[0m\u001b[37m\u001b[0m \u001b[1m7073s\u001b[0m 6s/step - accuracy: 0.9566 - loss: 0.1215\n"
     ]
    }
   ],
   "source": [
    "import os\n",
    "import numpy as np\n",
    "from sklearn.preprocessing import LabelEncoder\n",
    "from tensorflow.keras.preprocessing.image import ImageDataGenerator\n",
    "from tensorflow.keras.applications import Xception\n",
    "from tensorflow.keras.layers import Dense, GlobalAveragePooling2D\n",
    "from tensorflow.keras.models import Model\n",
    "from tensorflow.keras.optimizers import Adam\n",
    "from tensorflow.keras.callbacks import ModelCheckpoint, EarlyStopping\n",
    "\n",
    "# Define directories\n",
    "train_dir = 'data'  # Your training data directory\n",
    "\n",
    "# Label Encoding\n",
    "class_names = sorted(os.listdir(train_dir))  # Get class names from folder names\n",
    "label_encoder = LabelEncoder()\n",
    "label_encoder.fit(class_names)\n",
    "num_classes = len(class_names)\n",
    "\n",
    "# Data Generator with Augmentation\n",
    "train_datagen = ImageDataGenerator(\n",
    "    rescale=1.0/255,\n",
    "    rotation_range=20,\n",
    "    width_shift_range=0.2,\n",
    "    height_shift_range=0.2,\n",
    "    shear_range=0.2,\n",
    "    zoom_range=0.2,\n",
    "    horizontal_flip=True,\n",
    "    fill_mode='nearest'\n",
    ")\n",
    "\n",
    "train_generator = train_datagen.flow_from_directory(\n",
    "    train_dir,\n",
    "    target_size=(299, 299),  # Resize for Xception input\n",
    "    batch_size=32,\n",
    "    class_mode='categorical'\n",
    ")\n",
    "\n",
    "# Load and Prepare Xception Model\n",
    "def build_xception_model():\n",
    "    base_model = Xception(weights='imagenet', include_top=False, input_shape=(299, 299, 3))\n",
    "    x = base_model.output\n",
    "    x = GlobalAveragePooling2D()(x)\n",
    "    x = Dense(1024, activation='relu')(x)\n",
    "    predictions = Dense(num_classes, activation='softmax')(x)\n",
    "    model = Model(inputs=base_model.input, outputs=predictions)\n",
    "    return model\n",
    "\n",
    "# Compile and Train the Model\n",
    "def compile_and_train(model, model_name):\n",
    "    model.compile(optimizer=Adam(learning_rate=1e-4), loss='categorical_crossentropy', metrics=['accuracy'])\n",
    "    \n",
    "    # Define Callbacks\n",
    "    checkpoint = ModelCheckpoint(f'{model_name}_best_model.keras', monitor='val_accuracy', save_best_only=True, mode='max')\n",
    "    early_stopping = EarlyStopping(monitor='val_loss', patience=5, restore_best_weights=True)\n",
    "    \n",
    "    # Train the model\n",
    "    model.fit(\n",
    "        train_generator,\n",
    "        epochs=20,\n",
    "        callbacks=[checkpoint, early_stopping]\n",
    "    )\n",
    "\n",
    "# Build, compile, and train the Xception model\n",
    "xception_model = build_xception_model()\n",
    "print(\"Training Xception Model...\")\n",
    "compile_and_train(xception_model, 'xception')\n"
   ]
  },
  {
   "cell_type": "code",
   "execution_count": 3,
   "metadata": {},
   "outputs": [],
   "source": [
    "xception_model.save('xception_model.keras')"
   ]
  },
  {
   "cell_type": "code",
   "execution_count": 1,
   "metadata": {},
   "outputs": [
    {
     "name": "stdout",
     "output_type": "stream",
     "text": [
      "\u001b[1m1/1\u001b[0m \u001b[32m━━━━━━━━━━━━━━━━━━━━\u001b[0m\u001b[37m\u001b[0m \u001b[1m1s\u001b[0m 1s/step\n",
      "Predicted class: 2\n"
     ]
    }
   ],
   "source": [
    "import numpy as np\n",
    "from tensorflow.keras.preprocessing import image\n",
    "from tensorflow.keras.models import load_model\n",
    "\n",
    "# Path to your test image\n",
    "img_path = \"moderate.jpg\"\n",
    "# Load the saved model\n",
    "model = load_model(\"xception_model.keras\")\n",
    "\n",
    "# Load and preprocess the image\n",
    "def preprocess_input_image(img_path):\n",
    "    img = image.load_img(img_path, target_size=(299, 299))  # InceptionV3 input size\n",
    "    img_array = image.img_to_array(img)\n",
    "    img_array = np.expand_dims(img_array, axis=0)  # Add batch dimension\n",
    "    img_array = img_array / 255.0  # Normalize if necessary\n",
    "    return img_array\n",
    "\n",
    "# Preprocess the input image\n",
    "input_image = preprocess_input_image(img_path)\n",
    "\n",
    "# Make a prediction\n",
    "predictions = model.predict(input_image)\n",
    "predicted_class = np.argmax(predictions)\n",
    "\n",
    "# Display the prediction result\n",
    "print(f\"Predicted class: {predicted_class}\")"
   ]
  },
  {
   "cell_type": "code",
   "execution_count": 4,
   "metadata": {},
   "outputs": [
    {
     "name": "stdout",
     "output_type": "stream",
     "text": [
      "Found 35126 images belonging to 5 classes.\n",
      "\u001b[1m1098/1098\u001b[0m \u001b[32m━━━━━━━━━━━━━━━━━━━━\u001b[0m\u001b[37m\u001b[0m \u001b[1m4062s\u001b[0m 4s/step\n",
      "              precision    recall  f1-score   support\n",
      "\n",
      "           0       0.99      0.98      0.98     25810\n",
      "           1       0.78      0.95      0.86      2443\n",
      "           2       0.97      0.92      0.94      5292\n",
      "           3       0.92      0.98      0.95       873\n",
      "           4       0.99      0.98      0.98       708\n",
      "\n",
      "    accuracy                           0.97     35126\n",
      "   macro avg       0.93      0.96      0.94     35126\n",
      "weighted avg       0.97      0.97      0.97     35126\n",
      "\n"
     ]
    }
   ],
   "source": [
    "import numpy as np\n",
    "from sklearn.metrics import classification_report\n",
    "from tensorflow.keras.models import load_model\n",
    "from tensorflow.keras.preprocessing.image import ImageDataGenerator\n",
    "\n",
    "# Load the best saved model\n",
    "model = load_model('xception_model.keras')\n",
    "\n",
    "# Directory for validation/test data\n",
    "test_dir = 'data'  # Update this to your test/validation directory\n",
    "\n",
    "# Data Generator for test set (No augmentation, just rescaling)\n",
    "test_datagen = ImageDataGenerator(rescale=1.0/255)\n",
    "\n",
    "test_generator = test_datagen.flow_from_directory(\n",
    "    test_dir,\n",
    "    target_size=(299, 299),  # Same size as training\n",
    "    batch_size=32,\n",
    "    class_mode='categorical',\n",
    "    shuffle=False  # Ensure shuffle is False for correct evaluation\n",
    ")\n",
    "\n",
    "# Get ground truth labels and class indices\n",
    "true_labels = test_generator.classes\n",
    "class_indices = test_generator.class_indices\n",
    "class_names = list(class_indices.keys())\n",
    "\n",
    "# Make predictions\n",
    "predictions = model.predict(test_generator)\n",
    "predicted_labels = np.argmax(predictions, axis=1)\n",
    "\n",
    "# Calculate precision, recall, and F1-score\n",
    "print(classification_report(true_labels, predicted_labels, target_names=class_names))\n"
   ]
  },
  {
   "cell_type": "code",
   "execution_count": 5,
   "metadata": {},
   "outputs": [
    {
     "name": "stdout",
     "output_type": "stream",
     "text": [
      "Found 35126 images belonging to 5 classes.\n"
     ]
    },
    {
     "name": "stderr",
     "output_type": "stream",
     "text": [
      "c:\\Users\\Vishwa Murugan\\AppData\\Local\\Programs\\Python\\Python312\\Lib\\site-packages\\keras\\src\\trainers\\data_adapters\\py_dataset_adapter.py:121: UserWarning: Your `PyDataset` class should call `super().__init__(**kwargs)` in its constructor. `**kwargs` can include `workers`, `use_multiprocessing`, `max_queue_size`. Do not pass these arguments to `fit()`, as they will be ignored.\n",
      "  self._warn_if_super_not_called()\n"
     ]
    },
    {
     "name": "stdout",
     "output_type": "stream",
     "text": [
      "\u001b[1m1098/1098\u001b[0m \u001b[32m━━━━━━━━━━━━━━━━━━━━\u001b[0m\u001b[37m\u001b[0m \u001b[1m1839s\u001b[0m 2s/step\n"
     ]
    },
    {
     "data": {
      "image/png": "[encoded data removed]",
      "text/plain": [
       "<Figure size 1000x700 with 1 Axes>"
      ]
     },
     "metadata": {},
     "output_type": "display_data"
    }
   ],
   "source": [
    "import matplotlib.pyplot as plt\n",
    "import numpy as np\n",
    "from sklearn.metrics import classification_report\n",
    "from tensorflow.keras.models import load_model\n",
    "from tensorflow.keras.preprocessing.image import ImageDataGenerator\n",
    "\n",
    "# Load the saved model\n",
    "model = load_model('xception_model.keras')\n",
    "\n",
    "# Directory for validation/test data\n",
    "test_dir = 'data'  # Update to your test/validation directory\n",
    "\n",
    "# Data Generator for test set\n",
    "test_datagen = ImageDataGenerator(rescale=1.0/255)\n",
    "test_generator = test_datagen.flow_from_directory(\n",
    "    test_dir,\n",
    "    target_size=(299, 299),\n",
    "    batch_size=32,\n",
    "    class_mode='categorical',\n",
    "    shuffle=False\n",
    ")\n",
    "\n",
    "# Get ground truth labels and class indices\n",
    "true_labels = test_generator.classes\n",
    "class_indices = test_generator.class_indices\n",
    "class_names = list(class_indices.keys())\n",
    "\n",
    "# Make predictions\n",
    "predictions = model.predict(test_generator)\n",
    "predicted_labels = np.argmax(predictions, axis=1)\n",
    "\n",
    "# Get classification report as a dictionary\n",
    "report = classification_report(true_labels, predicted_labels, target_names=class_names, output_dict=True)\n",
    "\n",
    "# Extract precision, recall, f1-score values for each class\n",
    "precision = [report[cls]['precision'] for cls in class_names]\n",
    "recall = [report[cls]['recall'] for cls in class_names]\n",
    "f1_score = [report[cls]['f1-score'] for cls in class_names]\n",
    "\n",
    "# Create bar chart\n",
    "x = np.arange(len(class_names))  # The label locations\n",
    "width = 0.2  # Width of the bars\n",
    "\n",
    "fig, ax = plt.subplots(figsize=(10, 7))\n",
    "\n",
    "# Plot bars for precision, recall, and F1-score\n",
    "bars1 = ax.bar(x - width, precision, width, label='Precision', color='b')\n",
    "bars2 = ax.bar(x, recall, width, label='Recall', color='g')\n",
    "bars3 = ax.bar(x + width, f1_score, width, label='F1-score', color='r')\n",
    "\n",
    "# Add labels, title, and custom x-axis tick labels\n",
    "ax.set_xlabel('Classes')\n",
    "ax.set_ylabel('Scores')\n",
    "ax.set_title('Precision, Recall, and F1-Score by Class')\n",
    "ax.set_xticks(x)\n",
    "ax.set_xticklabels(class_names, rotation=45, ha=\"right\")\n",
    "ax.legend()\n",
    "\n",
    "# Display the values above the bars\n",
    "def add_labels(bars):\n",
    "    for bar in bars:\n",
    "        height = bar.get_height()\n",
    "        ax.annotate(f'{height:.2f}',\n",
    "                    xy=(bar.get_x() + bar.get_width() / 2, height),\n",
    "                    xytext=(0, 3),  # 3 points vertical offset\n",
    "                    textcoords=\"offset points\",\n",
    "                    ha='center', va='bottom')\n",
    "\n",
    "add_labels(bars1)\n",
    "add_labels(bars2)\n",
    "add_labels(bars3)\n",
    "\n",
    "# Adjust layout for better display\n",
    "fig.tight_layout()\n",
    "\n",
    "# Show the plot\n",
    "plt.show()\n"
   ]
  },
  {
   "cell_type": "code",
   "execution_count": null,
   "metadata": {},
   "outputs": [],
   "source": []
  }
 ],
 "metadata": {
  "kernelspec": {
   "display_name": "Python 3",
   "language": "python",
   "name": "python3"
  },
  "language_info": {
   "codemirror_mode": {
    "name": "ipython",
    "version": 3
   },
   "file_extension": ".py",
   "mimetype": "text/x-python",
   "name": "python",
   "nbconvert_exporter": "python",
   "pygments_lexer": "ipython3",
   "version": "3.12.4"
  }
 },
 "nbformat": 4,
 "nbformat_minor": 2
}
